{
 "cells": [
  {
   "cell_type": "code",
   "execution_count": 46,
   "metadata": {},
   "outputs": [],
   "source": [
    "import pandas as pd\n",
    "import requests \n",
    "import seaborn as  sns\n",
    "import scipy as sp\n",
    "import numpy as np\n",
    "import matplotlib.pyplot as plt\n",
    "from urllib.parse import urlencode \n",
    "import math"
   ]
  },
  {
   "cell_type": "markdown",
   "metadata": {},
   "source": [
    "# Проект: вариант 2"
   ]
  },
  {
   "cell_type": "markdown",
   "metadata": {},
   "source": [
    "## Задание 1. A/B–тестирование"
   ]
  },
  {
   "cell_type": "markdown",
   "metadata": {},
   "source": [
    "Условие\n",
    "\n",
    "Одной из основных задач аналитика в нашей команде является корректное проведение экспериментов. Для этого мы применяем метод A/B–тестирования. В ходе тестирования одной гипотезы целевой группе была предложена новая механика оплаты услуг на сайте, у контрольной группы оставалась базовая механика. В качестве задания необходимо проанализировать итоги эксперимента и сделать вывод, стоит ли запускать новую механику оплаты на всех пользователей."
   ]
  },
  {
   "cell_type": "code",
   "execution_count": 47,
   "metadata": {},
   "outputs": [],
   "source": [
    "def parse_from_yandex_drive(link):\n",
    "    base_url = 'https://cloud-api.yandex.net/v1/disk/public/resources/download?' \n",
    "    public_key = link \n",
    "    final_url = base_url + urlencode(dict(public_key=public_key)) \n",
    "    response = requests.get(final_url) \n",
    "    download_url = response.json()['href'] \n",
    "    download_response = requests.get(download_url)\n",
    "    return download_url"
   ]
  },
  {
   "cell_type": "code",
   "execution_count": 48,
   "metadata": {},
   "outputs": [
    {
     "data": {
      "text/html": [
       "<div>\n",
       "<style scoped>\n",
       "    .dataframe tbody tr th:only-of-type {\n",
       "        vertical-align: middle;\n",
       "    }\n",
       "\n",
       "    .dataframe tbody tr th {\n",
       "        vertical-align: top;\n",
       "    }\n",
       "\n",
       "    .dataframe thead th {\n",
       "        text-align: right;\n",
       "    }\n",
       "</style>\n",
       "<table border=\"1\" class=\"dataframe\">\n",
       "  <thead>\n",
       "    <tr style=\"text-align: right;\">\n",
       "      <th></th>\n",
       "      <th>student_id</th>\n",
       "      <th>grp</th>\n",
       "    </tr>\n",
       "  </thead>\n",
       "  <tbody>\n",
       "    <tr>\n",
       "      <th>0</th>\n",
       "      <td>1489</td>\n",
       "      <td>B</td>\n",
       "    </tr>\n",
       "  </tbody>\n",
       "</table>\n",
       "</div>"
      ],
      "text/plain": [
       "   student_id grp\n",
       "0        1489   B"
      ]
     },
     "execution_count": 48,
     "metadata": {},
     "output_type": "execute_result"
    }
   ],
   "source": [
    "# датафрейм с информацией о принадлежности пользователя к контрольной или экспериментальной группе (А – контроль, \n",
    "# B – целевая группа) \n",
    "groups = pd.read_csv(parse_from_yandex_drive('https://disk.yandex.ru/d/41q4bLBeeJocVg'), sep=';')\n",
    "groups = groups.rename(columns={'id':'student_id'})\n",
    "groups.head(1)"
   ]
  },
  {
   "cell_type": "code",
   "execution_count": 49,
   "metadata": {},
   "outputs": [
    {
     "data": {
      "text/html": [
       "<div>\n",
       "<style scoped>\n",
       "    .dataframe tbody tr th:only-of-type {\n",
       "        vertical-align: middle;\n",
       "    }\n",
       "\n",
       "    .dataframe tbody tr th {\n",
       "        vertical-align: top;\n",
       "    }\n",
       "\n",
       "    .dataframe thead th {\n",
       "        text-align: right;\n",
       "    }\n",
       "</style>\n",
       "<table border=\"1\" class=\"dataframe\">\n",
       "  <thead>\n",
       "    <tr style=\"text-align: right;\">\n",
       "      <th></th>\n",
       "      <th>student_id</th>\n",
       "      <th>grp</th>\n",
       "    </tr>\n",
       "  </thead>\n",
       "  <tbody>\n",
       "    <tr>\n",
       "      <th>0</th>\n",
       "      <td>5694584</td>\n",
       "      <td>B</td>\n",
       "    </tr>\n",
       "  </tbody>\n",
       "</table>\n",
       "</div>"
      ],
      "text/plain": [
       "   student_id grp\n",
       "0     5694584   B"
      ]
     },
     "execution_count": 49,
     "metadata": {},
     "output_type": "execute_result"
    }
   ],
   "source": [
    "# дополнительный датафрейм с пользователями, который был прислан спустя 2 дня после передачи данных\n",
    "groups_add = pd.read_csv(parse_from_yandex_drive('https://disk.yandex.ru/d/-Z9Q12eDWnP8wA'), sep=',')\n",
    "groups_add = groups_add.rename(columns={'id':'student_id'})\n",
    "groups_add.head(1)"
   ]
  },
  {
   "cell_type": "code",
   "execution_count": 50,
   "metadata": {},
   "outputs": [
    {
     "data": {
      "text/html": [
       "<div>\n",
       "<style scoped>\n",
       "    .dataframe tbody tr th:only-of-type {\n",
       "        vertical-align: middle;\n",
       "    }\n",
       "\n",
       "    .dataframe tbody tr th {\n",
       "        vertical-align: top;\n",
       "    }\n",
       "\n",
       "    .dataframe thead th {\n",
       "        text-align: right;\n",
       "    }\n",
       "</style>\n",
       "<table border=\"1\" class=\"dataframe\">\n",
       "  <thead>\n",
       "    <tr style=\"text-align: right;\">\n",
       "      <th></th>\n",
       "      <th>student_id</th>\n",
       "    </tr>\n",
       "  </thead>\n",
       "  <tbody>\n",
       "    <tr>\n",
       "      <th>0</th>\n",
       "      <td>581585</td>\n",
       "    </tr>\n",
       "  </tbody>\n",
       "</table>\n",
       "</div>"
      ],
      "text/plain": [
       "   student_id\n",
       "0      581585"
      ]
     },
     "execution_count": 50,
     "metadata": {},
     "output_type": "execute_result"
    }
   ],
   "source": [
    "# датафрейм с информацией о пользователях, которые зашли на платформу в дни проведения эксперимента. \n",
    "active_studs = pd.read_csv(parse_from_yandex_drive('https://disk.yandex.ru/d/pdYvInDms1MZng'))\n",
    "active_studs.head(1)"
   ]
  },
  {
   "cell_type": "code",
   "execution_count": 51,
   "metadata": {},
   "outputs": [
    {
     "data": {
      "text/html": [
       "<div>\n",
       "<style scoped>\n",
       "    .dataframe tbody tr th:only-of-type {\n",
       "        vertical-align: middle;\n",
       "    }\n",
       "\n",
       "    .dataframe tbody tr th {\n",
       "        vertical-align: top;\n",
       "    }\n",
       "\n",
       "    .dataframe thead th {\n",
       "        text-align: right;\n",
       "    }\n",
       "</style>\n",
       "<table border=\"1\" class=\"dataframe\">\n",
       "  <thead>\n",
       "    <tr style=\"text-align: right;\">\n",
       "      <th></th>\n",
       "      <th>student_id</th>\n",
       "      <th>rev</th>\n",
       "    </tr>\n",
       "  </thead>\n",
       "  <tbody>\n",
       "    <tr>\n",
       "      <th>0</th>\n",
       "      <td>1627</td>\n",
       "      <td>990.0</td>\n",
       "    </tr>\n",
       "  </tbody>\n",
       "</table>\n",
       "</div>"
      ],
      "text/plain": [
       "   student_id    rev\n",
       "0        1627  990.0"
      ]
     },
     "execution_count": 51,
     "metadata": {},
     "output_type": "execute_result"
    }
   ],
   "source": [
    "# датафрейм с информацией об оплатах пользователей в дни проведения эксперимента. \n",
    "checks = pd.read_csv(parse_from_yandex_drive('https://disk.yandex.ru/d/JgIlJcyuoYHWIg'), sep=';')\n",
    "checks.head(1)"
   ]
  },
  {
   "cell_type": "markdown",
   "metadata": {},
   "source": [
    "### Исследование на пользователей сделавших покупку, но не учавствующих в эксперименте."
   ]
  },
  {
   "cell_type": "code",
   "execution_count": 52,
   "metadata": {},
   "outputs": [],
   "source": [
    "count_non_active_studs_with_check = len([i for i in checks.student_id.unique() if  i not in active_studs.student_id.unique()])"
   ]
  },
  {
   "cell_type": "code",
   "execution_count": 53,
   "metadata": {},
   "outputs": [
    {
     "data": {
      "text/plain": [
       "149"
      ]
     },
     "execution_count": 53,
     "metadata": {},
     "output_type": "execute_result"
    }
   ],
   "source": [
    "count_non_active_studs_with_check"
   ]
  },
  {
   "cell_type": "markdown",
   "metadata": {},
   "source": [
    "#### Количество студентов совершивших покупку, но не участвующих в эксперименте  равно 149"
   ]
  },
  {
   "cell_type": "code",
   "execution_count": null,
   "metadata": {},
   "outputs": [],
   "source": []
  },
  {
   "cell_type": "code",
   "execution_count": 54,
   "metadata": {},
   "outputs": [],
   "source": [
    "# собираем старый и новые файлы с принадлежностью пользователей\n",
    "merge_df = pd.concat([groups, groups_add], ignore_index=True) "
   ]
  },
  {
   "cell_type": "code",
   "execution_count": 55,
   "metadata": {},
   "outputs": [],
   "source": [
    "# создаем новую колонку, в которой будет указано: заходил ли пользователь в дни проведения эксперимента\n",
    "merge_df['active_status'] = ['yes' if i in active_studs.student_id.unique() else 'no' for i in merge_df.student_id]"
   ]
  },
  {
   "cell_type": "code",
   "execution_count": 56,
   "metadata": {},
   "outputs": [],
   "source": [
    "# для каждого пользователя получаем колонку с потраченной суммой\n",
    "final_data = pd.merge(merge_df, checks, on = 'student_id', how='left')"
   ]
  },
  {
   "cell_type": "code",
   "execution_count": 57,
   "metadata": {},
   "outputs": [],
   "source": [
    "# создаем новую колонку, в которой будет указано: потратил ли пользователь деньги\n",
    "final_data['pay_status'] = ['non_payed' if math.isnan(i)  else 'payed' for i in final_data['rev']]"
   ]
  },
  {
   "cell_type": "code",
   "execution_count": 58,
   "metadata": {},
   "outputs": [],
   "source": [
    "final_data = final_data.rename(columns={'rev': 'pay_size'})"
   ]
  },
  {
   "cell_type": "code",
   "execution_count": 59,
   "metadata": {},
   "outputs": [],
   "source": [
    "# оставляем только тех пользователей, которые участвовали в эксперименте\n",
    "selection_by_visit = final_data.query('active_status == \"yes\"')"
   ]
  },
  {
   "cell_type": "markdown",
   "metadata": {},
   "source": [
    "### Статистический анализ"
   ]
  },
  {
   "cell_type": "markdown",
   "metadata": {},
   "source": [
    "#### Первичная проверка на эффективность "
   ]
  },
  {
   "cell_type": "markdown",
   "metadata": {},
   "source": [
    "1. Выявляем размер среднего чека для каждой группы"
   ]
  },
  {
   "cell_type": "code",
   "execution_count": 60,
   "metadata": {},
   "outputs": [
    {
     "data": {
      "text/html": [
       "<div>\n",
       "<style scoped>\n",
       "    .dataframe tbody tr th:only-of-type {\n",
       "        vertical-align: middle;\n",
       "    }\n",
       "\n",
       "    .dataframe tbody tr th {\n",
       "        vertical-align: top;\n",
       "    }\n",
       "\n",
       "    .dataframe thead th {\n",
       "        text-align: right;\n",
       "    }\n",
       "</style>\n",
       "<table border=\"1\" class=\"dataframe\">\n",
       "  <thead>\n",
       "    <tr style=\"text-align: right;\">\n",
       "      <th></th>\n",
       "      <th>grp</th>\n",
       "      <th>mean_check</th>\n",
       "    </tr>\n",
       "  </thead>\n",
       "  <tbody>\n",
       "    <tr>\n",
       "      <th>0</th>\n",
       "      <td>A</td>\n",
       "      <td>47.347204</td>\n",
       "    </tr>\n",
       "    <tr>\n",
       "      <th>1</th>\n",
       "      <td>B</td>\n",
       "      <td>58.058798</td>\n",
       "    </tr>\n",
       "  </tbody>\n",
       "</table>\n",
       "</div>"
      ],
      "text/plain": [
       "  grp  mean_check\n",
       "0   A   47.347204\n",
       "1   B   58.058798"
      ]
     },
     "execution_count": 60,
     "metadata": {},
     "output_type": "execute_result"
    }
   ],
   "source": [
    "group_sum = selection_by_visit.groupby('grp').agg({'pay_size': 'sum', 'student_id': 'count'}).reset_index()\n",
    "group_sum['mean_check'] = group_sum['pay_size'] / group_sum['student_id']\n",
    "group_sum[['grp', 'mean_check']]"
   ]
  },
  {
   "cell_type": "code",
   "execution_count": 61,
   "metadata": {},
   "outputs": [
    {
     "data": {
      "text/html": [
       "<div>\n",
       "<style scoped>\n",
       "    .dataframe tbody tr th:only-of-type {\n",
       "        vertical-align: middle;\n",
       "    }\n",
       "\n",
       "    .dataframe tbody tr th {\n",
       "        vertical-align: top;\n",
       "    }\n",
       "\n",
       "    .dataframe thead th {\n",
       "        text-align: right;\n",
       "    }\n",
       "</style>\n",
       "<table border=\"1\" class=\"dataframe\">\n",
       "  <thead>\n",
       "    <tr style=\"text-align: right;\">\n",
       "      <th></th>\n",
       "      <th>grp</th>\n",
       "      <th>pay_size</th>\n",
       "      <th>student_id</th>\n",
       "      <th>mean_check</th>\n",
       "    </tr>\n",
       "  </thead>\n",
       "  <tbody>\n",
       "    <tr>\n",
       "      <th>0</th>\n",
       "      <td>A</td>\n",
       "      <td>72820.0000</td>\n",
       "      <td>1538</td>\n",
       "      <td>47.347204</td>\n",
       "    </tr>\n",
       "    <tr>\n",
       "      <th>1</th>\n",
       "      <td>B</td>\n",
       "      <td>394974.0035</td>\n",
       "      <td>6803</td>\n",
       "      <td>58.058798</td>\n",
       "    </tr>\n",
       "  </tbody>\n",
       "</table>\n",
       "</div>"
      ],
      "text/plain": [
       "  grp     pay_size  student_id  mean_check\n",
       "0   A   72820.0000        1538   47.347204\n",
       "1   B  394974.0035        6803   58.058798"
      ]
     },
     "execution_count": 61,
     "metadata": {},
     "output_type": "execute_result"
    }
   ],
   "source": [
    "group_sum"
   ]
  },
  {
   "cell_type": "markdown",
   "metadata": {},
   "source": [
    "##### *** обращаю внимание, что в группе \"А\" в 4.5 раза меньше пользователей, чем в группе \"B\""
   ]
  },
  {
   "cell_type": "markdown",
   "metadata": {},
   "source": [
    "2. Смотрим процентное распределение покупателей и обычных пользователей"
   ]
  },
  {
   "cell_type": "code",
   "execution_count": 62,
   "metadata": {},
   "outputs": [
    {
     "data": {
      "text/plain": [
       "pay_status\n",
       "non_payed    94.928479\n",
       "payed         5.071521\n",
       "Name: proportion, dtype: float64"
      ]
     },
     "execution_count": 62,
     "metadata": {},
     "output_type": "execute_result"
    }
   ],
   "source": [
    "selection_by_visit.query('grp == \"A\"').pay_status.value_counts(normalize=True).mul(100)"
   ]
  },
  {
   "cell_type": "code",
   "execution_count": 63,
   "metadata": {},
   "outputs": [
    {
     "data": {
      "text/plain": [
       "pay_status\n",
       "non_payed    95.384389\n",
       "payed         4.615611\n",
       "Name: proportion, dtype: float64"
      ]
     },
     "execution_count": 63,
     "metadata": {},
     "output_type": "execute_result"
    }
   ],
   "source": [
    "selection_by_visit.query('grp == \"B\"').pay_status.value_counts(normalize=True).mul(100)"
   ]
  },
  {
   "cell_type": "markdown",
   "metadata": {},
   "source": [
    "##### ВЫВОД: \n",
    "Первичная проверка на эффективность новой механики оплаты показала, разницу между тестируемыми группами. А именно:\n",
    "у группы \"А\" процент покупающих пользователей - выше. У группы \"B\" выше средний чек."
   ]
  },
  {
   "cell_type": "markdown",
   "metadata": {},
   "source": [
    "##### Проверка на нормальность распределения с помощью теста Шапиро-Уилка"
   ]
  },
  {
   "cell_type": "code",
   "execution_count": 64,
   "metadata": {},
   "outputs": [],
   "source": [
    "selected_data = selection_by_visit.copy()\n",
    "\n",
    "# Заменяем значения NaN в столбце 'pay_size' на 0\n",
    "selected_data['pay_size'] = selected_data['pay_size'].fillna(0)\n"
   ]
  },
  {
   "cell_type": "code",
   "execution_count": 65,
   "metadata": {},
   "outputs": [
    {
     "data": {
      "text/html": [
       "<div>\n",
       "<style scoped>\n",
       "    .dataframe tbody tr th:only-of-type {\n",
       "        vertical-align: middle;\n",
       "    }\n",
       "\n",
       "    .dataframe tbody tr th {\n",
       "        vertical-align: top;\n",
       "    }\n",
       "\n",
       "    .dataframe thead th {\n",
       "        text-align: right;\n",
       "    }\n",
       "</style>\n",
       "<table border=\"1\" class=\"dataframe\">\n",
       "  <thead>\n",
       "    <tr style=\"text-align: right;\">\n",
       "      <th></th>\n",
       "      <th>student_id</th>\n",
       "      <th>grp</th>\n",
       "      <th>active_status</th>\n",
       "      <th>pay_size</th>\n",
       "      <th>pay_status</th>\n",
       "    </tr>\n",
       "  </thead>\n",
       "  <tbody>\n",
       "    <tr>\n",
       "      <th>1</th>\n",
       "      <td>1627</td>\n",
       "      <td>A</td>\n",
       "      <td>yes</td>\n",
       "      <td>990.0</td>\n",
       "      <td>payed</td>\n",
       "    </tr>\n",
       "  </tbody>\n",
       "</table>\n",
       "</div>"
      ],
      "text/plain": [
       "   student_id grp active_status  pay_size pay_status\n",
       "1        1627   A           yes     990.0      payed"
      ]
     },
     "execution_count": 65,
     "metadata": {},
     "output_type": "execute_result"
    }
   ],
   "source": [
    "selected_data.head(1)"
   ]
  },
  {
   "cell_type": "code",
   "execution_count": 66,
   "metadata": {},
   "outputs": [
    {
     "data": {
      "text/plain": [
       "ShapiroResult(statistic=0.7353236442181668, pvalue=1.49869203824321e-10)"
      ]
     },
     "execution_count": 66,
     "metadata": {},
     "output_type": "execute_result"
    }
   ],
   "source": [
    "a_shapiro = sp.stats.shapiro(selected_data.query('grp == \"A\" and pay_size != 0.0').pay_size)\n",
    "a_shapiro"
   ]
  },
  {
   "cell_type": "code",
   "execution_count": 67,
   "metadata": {},
   "outputs": [
    {
     "data": {
      "text/plain": [
       "ShapiroResult(statistic=0.8547218120137667, pvalue=1.5433362141142128e-16)"
      ]
     },
     "execution_count": 67,
     "metadata": {},
     "output_type": "execute_result"
    }
   ],
   "source": [
    "b_shapiro = sp.stats.shapiro(selected_data.query('grp == \"B\" and pay_size != 0.0').pay_size)\n",
    "b_shapiro"
   ]
  },
  {
   "cell_type": "markdown",
   "metadata": {},
   "source": [
    "##### Строим графики для демонстрации распределений стоимости покупок"
   ]
  },
  {
   "cell_type": "code",
   "execution_count": 68,
   "metadata": {},
   "outputs": [
    {
     "data": {
      "image/png": "[encoded data removed]",
      "text/plain": [
       "<Figure size 1300x400 with 1 Axes>"
      ]
     },
     "metadata": {},
     "output_type": "display_data"
    }
   ],
   "source": [
    "plt.figure(figsize=(13,4))\n",
    "plt.xticks(rotation=45)\n",
    "sns.countplot(data=selected_data.query('grp == \"A\" and pay_size != 0.0'),  x='pay_size')\n",
    "plt.show()"
   ]
  },
  {
   "cell_type": "code",
   "execution_count": 69,
   "metadata": {},
   "outputs": [
    {
     "data": {
      "image/png": "[encoded data removed]",
      "text/plain": [
       "<Figure size 1300x400 with 1 Axes>"
      ]
     },
     "metadata": {},
     "output_type": "display_data"
    }
   ],
   "source": [
    "plt.figure(figsize=(13,4))\n",
    "plt.xticks(rotation=45)\n",
    "sns.countplot(data=selected_data.query('grp == \"B\" and pay_size != 0.0'),  x='pay_size')\n",
    "plt.show()"
   ]
  },
  {
   "cell_type": "markdown",
   "metadata": {},
   "source": [
    "Вывод: данные не распределены нормально. t-критерий Стьюдента нам не подходит\n",
    "\n"
   ]
  },
  {
   "cell_type": "markdown",
   "metadata": {},
   "source": [
    "\"\"\""
   ]
  },
  {
   "cell_type": "markdown",
   "metadata": {},
   "source": [
    "\n",
    "\n",
    "### Поэтому используем Критерий Колмогорова Смирнова"
   ]
  },
  {
   "cell_type": "markdown",
   "metadata": {},
   "source": [
    "##### Формирование гипотез\n",
    "     H0: Средние чеки статистически значимо не различаются.\n",
    "     H1: Средние чеки статистически значимо различаются.\n",
    "    "
   ]
  },
  {
   "cell_type": "code",
   "execution_count": 70,
   "metadata": {},
   "outputs": [
    {
     "data": {
      "text/html": [
       "<div>\n",
       "<style scoped>\n",
       "    .dataframe tbody tr th:only-of-type {\n",
       "        vertical-align: middle;\n",
       "    }\n",
       "\n",
       "    .dataframe tbody tr th {\n",
       "        vertical-align: top;\n",
       "    }\n",
       "\n",
       "    .dataframe thead th {\n",
       "        text-align: right;\n",
       "    }\n",
       "</style>\n",
       "<table border=\"1\" class=\"dataframe\">\n",
       "  <thead>\n",
       "    <tr style=\"text-align: right;\">\n",
       "      <th></th>\n",
       "      <th>grp</th>\n",
       "      <th>pay_size</th>\n",
       "    </tr>\n",
       "  </thead>\n",
       "  <tbody>\n",
       "    <tr>\n",
       "      <th>0</th>\n",
       "      <td>A</td>\n",
       "      <td>47.347204</td>\n",
       "    </tr>\n",
       "    <tr>\n",
       "      <th>1</th>\n",
       "      <td>B</td>\n",
       "      <td>58.058798</td>\n",
       "    </tr>\n",
       "  </tbody>\n",
       "</table>\n",
       "</div>"
      ],
      "text/plain": [
       "  grp   pay_size\n",
       "0   A  47.347204\n",
       "1   B  58.058798"
      ]
     },
     "execution_count": 70,
     "metadata": {},
     "output_type": "execute_result"
    }
   ],
   "source": [
    "selected_data_for_colmsmirn = selected_data.groupby('grp').agg({'pay_size': 'mean'}).reset_index()\n",
    "selected_data_for_colmsmirn"
   ]
  },
  {
   "cell_type": "markdown",
   "metadata": {},
   "source": []
  },
  {
   "cell_type": "code",
   "execution_count": 71,
   "metadata": {},
   "outputs": [],
   "source": [
    "statistic, p_value = sp.stats.ks_2samp(selected_data.query('grp == \"A\"').pay_size, selected_data.query('grp == \"B\"').pay_size)"
   ]
  },
  {
   "cell_type": "code",
   "execution_count": 72,
   "metadata": {},
   "outputs": [
    {
     "name": "stdout",
     "output_type": "stream",
     "text": [
      "Не удалось отвергнуть нулевую гипотезу: Средние чеки статистически значимо не различаются.\n"
     ]
    }
   ],
   "source": [
    "if p_value < 0.05:\n",
    "    print(\"Отвергаем нулевую гипотезу: Средние чеки статистически значимо различаются.\")\n",
    "else:\n",
    "    print(\"Не удалось отвергнуть нулевую гипотезу: Средние чеки статистически значимо не различаются.\")"
   ]
  },
  {
   "cell_type": "code",
   "execution_count": null,
   "metadata": {},
   "outputs": [],
   "source": []
  },
  {
   "cell_type": "markdown",
   "metadata": {},
   "source": [
    "## Используем bootstrap для стат теста ARPPU"
   ]
  },
  {
   "cell_type": "markdown",
   "metadata": {},
   "source": [
    "##### Формирование гипотез\n",
    "     H0: ARPPU статистически значимо не различается.\n",
    "     H1: ARPPU статистически значимо различается.\n",
    "    "
   ]
  },
  {
   "cell_type": "code",
   "execution_count": 73,
   "metadata": {},
   "outputs": [
    {
     "data": {
      "text/html": [
       "<div>\n",
       "<style scoped>\n",
       "    .dataframe tbody tr th:only-of-type {\n",
       "        vertical-align: middle;\n",
       "    }\n",
       "\n",
       "    .dataframe tbody tr th {\n",
       "        vertical-align: top;\n",
       "    }\n",
       "\n",
       "    .dataframe thead th {\n",
       "        text-align: right;\n",
       "    }\n",
       "</style>\n",
       "<table border=\"1\" class=\"dataframe\">\n",
       "  <thead>\n",
       "    <tr style=\"text-align: right;\">\n",
       "      <th></th>\n",
       "      <th>student_id</th>\n",
       "      <th>grp</th>\n",
       "      <th>active_status</th>\n",
       "      <th>pay_size</th>\n",
       "      <th>pay_status</th>\n",
       "    </tr>\n",
       "  </thead>\n",
       "  <tbody>\n",
       "    <tr>\n",
       "      <th>1</th>\n",
       "      <td>1627</td>\n",
       "      <td>A</td>\n",
       "      <td>yes</td>\n",
       "      <td>990.0</td>\n",
       "      <td>payed</td>\n",
       "    </tr>\n",
       "  </tbody>\n",
       "</table>\n",
       "</div>"
      ],
      "text/plain": [
       "   student_id grp active_status  pay_size pay_status\n",
       "1        1627   A           yes     990.0      payed"
      ]
     },
     "execution_count": 73,
     "metadata": {},
     "output_type": "execute_result"
    }
   ],
   "source": [
    "boots_arppu_df = selected_data.copy()\n",
    "boots_arppu_df['pay_size'] = boots_arppu_df['pay_size'].fillna(0)\n",
    "boots_arppu_df.head(1)"
   ]
  },
  {
   "cell_type": "markdown",
   "metadata": {},
   "source": [
    "Мы уже выяснили, что распределения неравномерны, но для наглядности построим график"
   ]
  },
  {
   "cell_type": "code",
   "execution_count": 74,
   "metadata": {},
   "outputs": [
    {
     "data": {
      "text/plain": [
       "<seaborn.axisgrid.FacetGrid at 0x252a8872850>"
      ]
     },
     "execution_count": 74,
     "metadata": {},
     "output_type": "execute_result"
    },
    {
     "data": {
      "image/png": "[encoded data removed]",
      "text/plain": [
       "<Figure size 559.625x500 with 1 Axes>"
      ]
     },
     "metadata": {},
     "output_type": "display_data"
    }
   ],
   "source": [
    "sns.displot(data=boots_arppu_df, x='pay_size', hue='grp')"
   ]
  },
  {
   "cell_type": "code",
   "execution_count": 85,
   "metadata": {},
   "outputs": [],
   "source": [
    "# напишем функцию для подсчета ARPPU по методу Bootstrap\n",
    "\n",
    "def count_arppu(df, n = 10000):\n",
    "    array_for_arppu = []\n",
    "    for i in range(n):\n",
    "        sample_data = df.sample(frac=1, replace=True)\n",
    "        sample_arppu = sample_data.pay_size.sum() / sample_data.student_id.nunique()\n",
    "        array_for_arppu.append(sample_arppu)\n",
    "    new_df = pd.DataFrame({'arppu': array_for_arppu})\n",
    "    return new_df"
   ]
  },
  {
   "cell_type": "code",
   "execution_count": 76,
   "metadata": {},
   "outputs": [],
   "source": [
    "# Применим функцию\n",
    "a_group_arppu = count_arppu(boots_arppu_df.query('grp == \"A\" and pay_status == \"payed\"'))\n",
    "b_group_arppu = count_arppu(boots_arppu_df.query('grp == \"B\" and pay_status == \"payed\"'))"
   ]
  },
  {
   "cell_type": "code",
   "execution_count": 77,
   "metadata": {},
   "outputs": [
    {
     "data": {
      "image/png": "[encoded data removed]",
      "text/plain": [
       "<Figure size 1000x600 with 1 Axes>"
      ]
     },
     "metadata": {},
     "output_type": "display_data"
    }
   ],
   "source": [
    "# Построение графика распределения ARPPU для каждой группы\n",
    "plt.figure(figsize=(10, 6))\n",
    "sns.histplot(a_group_arppu['arppu'], label='Control group',  color='blue')\n",
    "sns.histplot(b_group_arppu['arppu'], label='Test group',  color='orange')\n",
    "plt.title('ARPPU for group')\n",
    "plt.xlabel('ARPPU')\n",
    "plt.ylabel('Частота')\n",
    "plt.legend()\n",
    "plt.show()"
   ]
  },
  {
   "cell_type": "markdown",
   "metadata": {},
   "source": [
    "##### Теперь наши распределения похожи на нормальные"
   ]
  },
  {
   "cell_type": "code",
   "execution_count": 78,
   "metadata": {},
   "outputs": [],
   "source": [
    "# напишем функцию для построения доверительного интервала\n",
    "\n",
    "def bootstrap_confidence_interval(data, alpha=0.05, n=10000):\n",
    "    array_for_means = []\n",
    "    for i in range(n):\n",
    "        sample = np.random.choice(data, len(data), replace=True)\n",
    "        array_for_means.append(np.mean(sample))\n",
    "    lower_bound = np.percentile(array_for_means, 100 * alpha / 2)\n",
    "    upper_bound = np.percentile(array_for_means, 100 * (1 - alpha / 2))\n",
    "    return lower_bound, upper_bound"
   ]
  },
  {
   "cell_type": "code",
   "execution_count": 79,
   "metadata": {},
   "outputs": [
    {
     "name": "stdout",
     "output_type": "stream",
     "text": [
      "Группа A CI: (1475.6341893557294, 1482.6930484260163)\n",
      "Группа B CI: (1986.3450922870843, 1989.8814799223203)\n"
     ]
    }
   ],
   "source": [
    "# Рассчитываем доверительные интервалы для каждой группы\n",
    "\n",
    "a_group_ci = bootstrap_confidence_interval(a_group_arppu['arppu'])\n",
    "b_group_ci = bootstrap_confidence_interval(b_group_arppu['arppu'])\n",
    "\n",
    "print(\"Группа A CI:\", a_group_ci)\n",
    "print(\"Группа B CI:\", b_group_ci)"
   ]
  },
  {
   "cell_type": "code",
   "execution_count": 80,
   "metadata": {},
   "outputs": [
    {
     "data": {
      "image/png": "[encoded data removed]",
      "text/plain": [
       "<Figure size 1000x600 with 1 Axes>"
      ]
     },
     "metadata": {},
     "output_type": "display_data"
    }
   ],
   "source": [
    "# Построение графика распределения ARPPU для каждой группы\n",
    "plt.figure(figsize=(10, 6))\n",
    "sns.histplot(a_group_arppu['arppu'], label='Control group',  color='blue')\n",
    "sns.histplot(b_group_arppu['arppu'], label='Test group',  color='orange')\n",
    "plt.title('ARPPU for group')\n",
    "plt.xlabel('ARPPU')\n",
    "plt.ylabel('Частота')\n",
    "plt.legend()\n",
    "plt.show()"
   ]
  },
  {
   "cell_type": "code",
   "execution_count": 81,
   "metadata": {},
   "outputs": [
    {
     "name": "stdout",
     "output_type": "stream",
     "text": [
      "Отвергаем нулевую гипотезу: ARPPU статистически значимо различается.\n"
     ]
    }
   ],
   "source": [
    "# Проверка статистической значимости\n",
    "if a_group_ci[1] < b_group_ci[0] or a_group_ci[0] > b_group_ci[1]:\n",
    "    print(\"Отвергаем нулевую гипотезу: ARPPU статистически значимо различается.\")\n",
    "else:\n",
    "    print(\"Не удалось отвергнуть нулевую гипотезу: ARPPU статистически значимо не различается.\")"
   ]
  },
  {
   "cell_type": "markdown",
   "metadata": {},
   "source": [
    "#### Вывод: различия ARPPU статистически значимы. Отклоняем нулевую гипотезу."
   ]
  },
  {
   "cell_type": "markdown",
   "metadata": {},
   "source": [
    "### Используем тест хи-квадрат чтобы выяснить: есть ли существенная разница в процентном соотношении покупателей к обычным пользователям, для каждой группы. "
   ]
  },
  {
   "cell_type": "markdown",
   "metadata": {},
   "source": [
    "##### Формирование гипотез\n",
    "     H0: Проведенный эксперимент показал, что эффекта нет. Соотношение покупателей к обычным пользователямчеков статистически не существенно.\n",
    "     H1: Проведенный эксперимент показал, что эффект есть. Соотношение покупателей к обычным пользователямчеков статистически существенно."
   ]
  },
  {
   "cell_type": "code",
   "execution_count": 82,
   "metadata": {},
   "outputs": [],
   "source": [
    "stat, p, dof, expected = sp.stats.chi2_contingency(pd.crosstab(selection_by_visit.pay_status, selection_by_visit.grp))"
   ]
  },
  {
   "cell_type": "code",
   "execution_count": 83,
   "metadata": {
    "scrolled": true
   },
   "outputs": [
    {
     "name": "stdout",
     "output_type": "stream",
     "text": [
      "Статистика хи-квадрат: 0.48480826522557896\n",
      "p-value: 0.48625240457231045\n"
     ]
    }
   ],
   "source": [
    "print(f\"Статистика хи-квадрат: {stat}\")\n",
    "print(f\"p-value: {p}\")"
   ]
  },
  {
   "cell_type": "code",
   "execution_count": 84,
   "metadata": {},
   "outputs": [
    {
     "name": "stdout",
     "output_type": "stream",
     "text": [
      "Не отклоняем H0\n"
     ]
    }
   ],
   "source": [
    "prob = 0.95\n",
    "critical = sp.stats.chi2.ppf(prob, dof)\n",
    "if abs(stat) >= critical:\n",
    "    print('Отклоняем H0')\n",
    "else:\n",
    "    print('Не отклоняем H0')"
   ]
  },
  {
   "cell_type": "markdown",
   "metadata": {},
   "source": [
    "#### Вывод: существенной разницы не выявлено. Мы не можем отклонить H0 гипотезу."
   ]
  },
  {
   "cell_type": "markdown",
   "metadata": {},
   "source": [
    "\"\"\"\n",
    "## Итоги и выводы всей работы"
   ]
  },
  {
   "cell_type": "markdown",
   "metadata": {},
   "source": [
    "1. В ходе анализа я оценивал метрики стоимости услуг и соотношение активных пользователей(клиентов) и пассивных пользователей, так как они наиболее точным образом могут рассказать о успешности новой механики.\n",
    "\n",
    "\n",
    "2.   \n",
    "    \n",
    "    2.1 Для тестируемой группы имеются незначительные изменения конверции пользователя в покупателя, в отрицательную сторону(!). Данное изменение может быть связано с тем, что новая механика оплаты не всем удобна и некоторые пользователи могу отказываться от покупки в момент непосредственного взаимодействия с ней.\n",
    "    \n",
    "    2.2 Но при этом есть значительные улучшения показателя средний чек, примерно на 20%. Данное изменение может быть связано с тем, что при переходе на страницу оплаты, пользователям предлагется докупить какие-то дополнительные товары. Либо в дни тестирования проводилась какая-то рекламная кампания, отчего продажи выросли.\n",
    "\n",
    "    \n",
    "3. Тесты показали, что изменения из пунктов 2.1 и 2.2 не являются статистически значимым.\n",
    "\n",
    "\n",
    "4. Тесты показали, что значение ARPPU является статистически значимым.\n",
    "\n",
    "\n",
    "5. Считаю, что проведенный анализ не может дать полных оснований утверждать, что новую механику оплаты стоит внедрить на всех пользователей. Возможно стоит посмотреть: что служит причиной/причинами для уменьшения конверции пользователя в покупателя. Увеличение чека конечно может служить аргументов за внедрение новой механики, но нужно учитывать: не было ли на сайте, в дни проведения эксперимента, еще каких-то изменений. Не проводились ли рекламные кампании. Не выпали ли дни проведения эксперимента на какие-то праздники, когда люди склонны тратить больше итд. Так же в тестируемой группе в 4,5 раза больше пользователей, чем в контрольной. Это тоже может влиять на финальный итог. В общем для однозначного ответа хотелось бы иметь больше информации. \n",
    "   Однако, ориентируясь на тест различий ARPPU, можно сказать что новая механика оплаты успешна и ее можно применить на всех пользователей"
   ]
  },
  {
   "cell_type": "code",
   "execution_count": null,
   "metadata": {},
   "outputs": [],
   "source": []
  }
 ],
 "metadata": {
  "kernelspec": {
   "display_name": "Python 3 (ipykernel)",
   "language": "python",
   "name": "python3"
  },
  "language_info": {
   "codemirror_mode": {
    "name": "ipython",
    "version": 3
   },
   "file_extension": ".py",
   "mimetype": "text/x-python",
   "name": "python",
   "nbconvert_exporter": "python",
   "pygments_lexer": "ipython3",
   "version": "3.11.3"
  }
 },
 "nbformat": 4,
 "nbformat_minor": 4
}
