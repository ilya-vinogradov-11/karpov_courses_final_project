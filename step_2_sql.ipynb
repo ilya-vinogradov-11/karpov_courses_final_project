{
 "cells": [
  {
   "cell_type": "code",
   "execution_count": 1,
   "metadata": {},
   "outputs": [],
   "source": [
    "import pandas as pd\n",
    "import pandahouse as ph"
   ]
  },
  {
   "cell_type": "markdown",
   "metadata": {},
   "source": [
    "# Проект: вариант 2\n"
   ]
  },
  {
   "cell_type": "markdown",
   "metadata": {},
   "source": [
    "## Задание 2. SQL"
   ]
  },
  {
   "cell_type": "markdown",
   "metadata": {},
   "source": [
    "### 2.1 Очень усердные ученики."
   ]
  },
  {
   "cell_type": "markdown",
   "metadata": {},
   "source": [
    "Образовательные курсы состоят из различных уроков, каждый из которых состоит из нескольких маленьких заданий. Каждое такое маленькое задание называется \"горошиной\".\n",
    "\n",
    "Назовём очень усердным учеником того пользователя, который хотя бы раз за текущий месяц правильно решил 20 горошин."
   ]
  },
  {
   "cell_type": "markdown",
   "metadata": {},
   "source": [
    "Необходимо написать оптимальный запрос, который даст информацию о количестве очень усердных студентов.NB! Под усердным студентом мы понимаем студента, который правильно решил 20 задач за текущий месяц."
   ]
  },
  {
   "cell_type": "code",
   "execution_count": 2,
   "metadata": {},
   "outputs": [],
   "source": [
    "# данные для подключения к БД default\n",
    "connection_default = {'host': 'https://clickhouse.lab.karpov.courses',\n",
    "                      'database':'default',\n",
    "                      'user':'student', \n",
    "                      'password':'dpo_python_2020'\n",
    "                     }"
   ]
  },
  {
   "cell_type": "code",
   "execution_count": 3,
   "metadata": {},
   "outputs": [],
   "source": [
    "# создаем SQL запрос\n",
    "sql_query_1 = '''\n",
    "SELECT COUNT(st_id) as students_count\n",
    "FROM (\n",
    "    SELECT st_id\n",
    "    FROM peas\n",
    "    WHERE correct = 1\n",
    "          AND EXTRACT(MONTH FROM timest) = (SELECT EXTRACT(MONTH FROM MAX(timest)) FROM peas)\n",
    "    GROUP BY st_id\n",
    "    HAVING COUNT(correct) >= 20\n",
    ")\n",
    "'''\n",
    "# в данном запросе я беру количество студентов, из таблицы peas, где выбираю тех студентов, которые в текущем месяце решили \n",
    "# верно 20 и более задач. За текущий месяц я взял тот месяц, которому принадлежит последняя дата."
   ]
  },
  {
   "cell_type": "code",
   "execution_count": 4,
   "metadata": {},
   "outputs": [],
   "source": [
    "q_test_1 = ph.read_clickhouse(query=sql_query_1, connection=connection_default) # соединение с Clickhouse"
   ]
  },
  {
   "cell_type": "code",
   "execution_count": 5,
   "metadata": {},
   "outputs": [],
   "source": [
    "diligent_student_counter = q_test_1.students_count[0] "
   ]
  },
  {
   "cell_type": "code",
   "execution_count": 6,
   "metadata": {},
   "outputs": [
    {
     "data": {
      "text/plain": [
       "136"
      ]
     },
     "execution_count": 6,
     "metadata": {},
     "output_type": "execute_result"
    }
   ],
   "source": [
    "diligent_student_counter"
   ]
  },
  {
   "cell_type": "markdown",
   "metadata": {},
   "source": [
    "#### Вывод: Количество очень усердных студентов, решивших 20 и более задач в текущем месяце(октябрь), равно 136."
   ]
  },
  {
   "cell_type": "markdown",
   "metadata": {},
   "source": [
    "### 2.2 Оптимизация воронки"
   ]
  },
  {
   "cell_type": "markdown",
   "metadata": {},
   "source": [
    "Образовательная платформа предлагает пройти студентам курсы по модели trial: студент может решить бесплатно лишь 30 горошин в день. Для неограниченного количества заданий в определенной дисциплине студенту необходимо приобрести полный доступ. Команда провела эксперимент, где был протестирован новый экран оплаты.\n",
    "\n",
    "Необходимо в одном запросе выгрузить следующую информацию о группах пользователей:\n",
    "\n",
    "ARPU \n",
    "ARPAU \n",
    "CR в покупку \n",
    "СR активного пользователя в покупку \n",
    "CR пользователя из активности по математике (subject = ’math’) в покупку курса по математике\n",
    "ARPU считается относительно всех пользователей, попавших в группы.\n",
    "\n",
    "Активным считается пользователь, за все время решивший больше 10 задач правильно в любых дисциплинах.\n",
    "\n",
    "Активным по математике считается пользователь, за все время решивший 2 или больше задач правильно по математике."
   ]
  },
  {
   "cell_type": "markdown",
   "metadata": {},
   "source": [
    "### Создаем SQL запрос\n",
    "#### Пояснения к запросу: \n",
    "    1. Пользователи - люди, которые зарегистрированы на платформе. \n",
    "    2. Клиенты - люди, которые совершили хотя бы 1 покупку"
   ]
  },
  {
   "cell_type": "code",
   "execution_count": 7,
   "metadata": {},
   "outputs": [],
   "source": [
    "\n",
    "sql_query_2 = '''\n",
    "SELECT test_grp,\n",
    "ROUND(SUM(money) / COUNT(DISTINCT fpc.st_id), 2) as ARPPU,\n",
    "ROUND(SUM(money) / (SELECT COUNT(DISTINCT st_id) FROM studs), 2) as ARPU,    \n",
    "ROUND(COUNT(DISTINCT fpc.st_id) / (SELECT COUNT(DISTINCT st_id) FROM studs), 3) as cr_to_purchase,    \n",
    "ROUND(COUNT(DISTINCT fpc.st_id) FILTER (WHERE  fpc.st_id IN (SELECT st_id\n",
    "                                                             FROM peas  \n",
    "                                                             WHERE correct = 1\n",
    "                                                             GROUP BY st_id\n",
    "                                                             HAVING COUNT(correct) > 10)) / (SELECT COUNT(DISTINCT st_id) FROM studs), 3) as cr_active,                                                                                                      \n",
    "ROUND(COUNT(DISTINCT fpc.st_id) FILTER (WHERE subject = 'Math' and fpc.st_id IN (SELECT st_id\n",
    "                                                                                 FROM peas  \n",
    "                                                                                 WHERE correct = 1 and subject = 'Math'\n",
    "                                                                                 GROUP BY st_id\n",
    "                                                                                 HAVING COUNT(correct) >= 2)) / (SELECT COUNT(DISTINCT st_id) FROM studs), 4) as cr_active_math \n",
    "FROM final_project_check AS fpc \n",
    "INNER JOIN studs AS st ON fpc.st_id = st.st_id\n",
    "GROUP BY test_grp                    \n",
    "LIMIT 100\n",
    "    '''\n"
   ]
  },
  {
   "cell_type": "markdown",
   "metadata": {},
   "source": [
    " #### В данном запросе,для каждой группы, мы считаем следующие метрики:\n",
    "     1. ARPPU как отношение дохода, к числу клиентов для каждой группы\n",
    "     2. ARPU как отношение дохода, к числу пользователей для каждой группы\n",
    "     3. CR в покупку как отношение числа клиентов, к числу  пользователей для каждой группы\n",
    "     4. CR активного пользователя в покупку как отношение числа активных пользователей, к числу пользователей для каждой группы\n",
    "     5. CR активного пользователя в покупку как отношение числа активных по математике пользователей, к числу пользователей для каждой группы"
   ]
  },
  {
   "cell_type": "code",
   "execution_count": 8,
   "metadata": {},
   "outputs": [],
   "source": [
    "q_test_2 = ph.read_clickhouse(query=sql_query_2, connection=connection_default)"
   ]
  },
  {
   "cell_type": "code",
   "execution_count": 9,
   "metadata": {},
   "outputs": [
    {
     "data": {
      "text/html": [
       "<div>\n",
       "<style scoped>\n",
       "    .dataframe tbody tr th:only-of-type {\n",
       "        vertical-align: middle;\n",
       "    }\n",
       "\n",
       "    .dataframe tbody tr th {\n",
       "        vertical-align: top;\n",
       "    }\n",
       "\n",
       "    .dataframe thead th {\n",
       "        text-align: right;\n",
       "    }\n",
       "</style>\n",
       "<table border=\"1\" class=\"dataframe\">\n",
       "  <thead>\n",
       "    <tr style=\"text-align: right;\">\n",
       "      <th></th>\n",
       "      <th>test_grp</th>\n",
       "      <th>ARPPU</th>\n",
       "      <th>ARPU</th>\n",
       "      <th>cr_to_purchase</th>\n",
       "      <th>cr_active</th>\n",
       "      <th>cr_active_math</th>\n",
       "    </tr>\n",
       "  </thead>\n",
       "  <tbody>\n",
       "    <tr>\n",
       "      <th>0</th>\n",
       "      <td>control</td>\n",
       "      <td>92333.33</td>\n",
       "      <td>2308.33</td>\n",
       "      <td>0.025</td>\n",
       "      <td>0.023</td>\n",
       "      <td>0.0050</td>\n",
       "    </tr>\n",
       "    <tr>\n",
       "      <th>1</th>\n",
       "      <td>pilot</td>\n",
       "      <td>106093.75</td>\n",
       "      <td>5658.33</td>\n",
       "      <td>0.053</td>\n",
       "      <td>0.042</td>\n",
       "      <td>0.0067</td>\n",
       "    </tr>\n",
       "  </tbody>\n",
       "</table>\n",
       "</div>"
      ],
      "text/plain": [
       "  test_grp      ARPPU     ARPU  cr_to_purchase  cr_active  cr_active_math\n",
       "0  control   92333.33  2308.33           0.025      0.023          0.0050\n",
       "1    pilot  106093.75  5658.33           0.053      0.042          0.0067"
      ]
     },
     "execution_count": 9,
     "metadata": {},
     "output_type": "execute_result"
    }
   ],
   "source": [
    "q_test_2"
   ]
  },
  {
   "cell_type": "markdown",
   "metadata": {},
   "source": [
    "#### Вывод: с помощью sql-запроса получены показатели необходимых метрик. На первый взгляд видно, что показатели группы pilot(тестовая группа) - выше. Можно провести стат.анализ и выяснить, являются ли изменения в показателях статистически значимыми.\n",
    "    "
   ]
  },
  {
   "cell_type": "code",
   "execution_count": null,
   "metadata": {},
   "outputs": [],
   "source": []
  }
 ],
 "metadata": {
  "kernelspec": {
   "display_name": "Python 3",
   "language": "python",
   "name": "python3"
  },
  "language_info": {
   "codemirror_mode": {
    "name": "ipython",
    "version": 3
   },
   "file_extension": ".py",
   "mimetype": "text/x-python",
   "name": "python",
   "nbconvert_exporter": "python",
   "pygments_lexer": "ipython3",
   "version": "3.7.3"
  }
 },
 "nbformat": 4,
 "nbformat_minor": 4
}
